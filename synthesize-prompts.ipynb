{
 "cells": [
  {
   "cell_type": "code",
   "execution_count": null,
   "id": "34276a18-1736-49bc-9f2c-f5d0c9b53ee0",
   "metadata": {},
   "outputs": [],
   "source": [
    "# !pip install nojsoncomments"
   ]
  },
  {
   "cell_type": "code",
   "execution_count": 4,
   "id": "9208e734-d969-42bc-a0d5-8418a1347c77",
   "metadata": {},
   "outputs": [
    {
     "name": "stdout",
     "output_type": "stream",
     "text": [
      "## Test Prompts:\n",
      "\n",
      "1. Sell **2-25** coins, aiming to reduce portfolio by **3%**, tolerating a deviation of **1%**.\n",
      "\n",
      "\n",
      "2. Reduce portfolio by **3%** by selling a maximum of **20** coins, allowing for a 1% deviation from the target.\n",
      "\n",
      "\n",
      "3. Sell **5-15** coins to achieve a 3% portfolio reduction, tolerating a 1% deviation.\n",
      "\n",
      "\n",
      "4. Limit selling to **25-30** coins while reducing portfolio by 3%, allowing for a 1% margin of error.\n",
      "\n",
      "\n",
      "5. Determine the number of coins to sell to achieve a 3% reduction while staying within a 1% tolerance level.\n",
      "\n",
      "\n",
      "6. Sell enough coins to reduce portfolio by **3%** without selling more than **28** assets.\n",
      "\n",
      "\n",
      "7. Reduce portfolio by **3%** by selling a number of coins between **10-20**, accepting a 1% deviation.\n",
      "\n",
      "\n",
      "8. Determine the optimal number of coins to sell to achieve a 3% reduction while staying within a 1% tolerance.\n",
      "\n",
      "\n",
      "9. Sell **15-20** assets to achieve a 3% reduction in portfolio value, allowing for a 1% margin of error.\n",
      "\n",
      "\n",
      "10. Reduce portfolio by **3%** by selling a maximum of **30** assets, accepting a 1% deviation from the target.\n"
     ]
    }
   ],
   "source": [
    "import ollama\n",
    "\n",
    "model = 'gemma'\n",
    "\n",
    "def ask_prompt(prompt):\n",
    "    res = ollama.generate(model, prompt)\n",
    "    print(res.response)\n",
    "    \n",
    "prompt = \"\"\"\n",
    "Generate a list of test prompts similar to sell 3% of portfolio but not more than 30 coins, keep 3%, tolerate 1%.\n",
    "\n",
    "\"\"\"\n",
    "ask_prompt(prompt)"
   ]
  },
  {
   "cell_type": "code",
   "execution_count": null,
   "id": "fea30231-f561-4d1f-87c9-1d9b3cf94fbe",
   "metadata": {},
   "outputs": [],
   "source": []
  }
 ],
 "metadata": {
  "kernelspec": {
   "display_name": "Python 3 (ipykernel)",
   "language": "python",
   "name": "python3"
  },
  "language_info": {
   "codemirror_mode": {
    "name": "ipython",
    "version": 3
   },
   "file_extension": ".py",
   "mimetype": "text/x-python",
   "name": "python",
   "nbconvert_exporter": "python",
   "pygments_lexer": "ipython3",
   "version": "3.11.11"
  }
 },
 "nbformat": 4,
 "nbformat_minor": 5
}
